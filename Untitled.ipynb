{
 "cells": [
  {
   "cell_type": "code",
   "execution_count": 1,
   "id": "6e05e99a-8d37-4bdb-b701-83f3e165df30",
   "metadata": {},
   "outputs": [],
   "source": [
    "import numpy as np"
   ]
  },
  {
   "cell_type": "code",
   "execution_count": 18,
   "id": "bdb60065-4fd9-40b4-97d3-8832024f4d99",
   "metadata": {},
   "outputs": [],
   "source": [
    "x = np.array([1,2,6,1,7,1,7,9,4,7,3,23,8,9])"
   ]
  },
  {
   "cell_type": "code",
   "execution_count": 19,
   "id": "2d107bb6-cff8-412e-9253-bb8d39abecf5",
   "metadata": {},
   "outputs": [
    {
     "data": {
      "text/plain": [
       "array([ 1,  2,  6,  1,  7,  1,  7,  9,  4,  7,  3, 23,  8,  9])"
      ]
     },
     "execution_count": 19,
     "metadata": {},
     "output_type": "execute_result"
    }
   ],
   "source": [
    "x"
   ]
  },
  {
   "cell_type": "code",
   "execution_count": 20,
   "id": "a4aaf606-c8c7-4cf0-82e8-f313bd1ec0c0",
   "metadata": {},
   "outputs": [
    {
     "data": {
      "text/plain": [
       "(array([ 2,  4,  6,  7,  9, 11, 12, 13]),)"
      ]
     },
     "execution_count": 20,
     "metadata": {},
     "output_type": "execute_result"
    }
   ],
   "source": [
    "np.where(x>4)"
   ]
  },
  {
   "cell_type": "code",
   "execution_count": null,
   "id": "c10b0107-6cee-4c8a-a00e-886c35e0292c",
   "metadata": {},
   "outputs": [],
   "source": []
  }
 ],
 "metadata": {
  "kernelspec": {
   "display_name": "Python 3 (ipykernel)",
   "language": "python",
   "name": "python3"
  },
  "language_info": {
   "codemirror_mode": {
    "name": "ipython",
    "version": 3
   },
   "file_extension": ".py",
   "mimetype": "text/x-python",
   "name": "python",
   "nbconvert_exporter": "python",
   "pygments_lexer": "ipython3",
   "version": "3.10.6"
  }
 },
 "nbformat": 4,
 "nbformat_minor": 5
}
